{
  "nbformat": 4,
  "nbformat_minor": 0,
  "metadata": {
    "colab": {
      "provenance": []
    },
    "kernelspec": {
      "name": "python3",
      "display_name": "Python 3"
    },
    "language_info": {
      "name": "python"
    }
  },
  "cells": [
    {
      "cell_type": "code",
      "execution_count": null,
      "metadata": {
        "colab": {
          "base_uri": "https://localhost:8080/"
        },
        "id": "r7ZL8MsJe4q0",
        "outputId": "bd34fb42-b9b9-4a1d-bbd4-9996644f18f9"
      },
      "outputs": [
        {
          "output_type": "stream",
          "name": "stdout",
          "text": [
            "Max element is: 4\n"
          ]
        }
      ],
      "source": [
        "# Problem 1.Given an array of n numbers, give an algorithm which gives the element appearing maximum number of times?\n",
        "\n",
        "arr = [2,3,23,4,34,2,3,4,4,221,1]\n",
        "def findMaxElement(arr):\n",
        "  dic ={}\n",
        "  for i in arr:\n",
        "    if i not in dic:\n",
        "      dic[i]=1\n",
        "    else:\n",
        "      dic[i]+=1\n",
        "  ans  = max(dic,key=dic.get)\n",
        "  print(\"Max element is:\",ans)\n",
        "findMaxElement(arr)"
      ]
    },
    {
      "cell_type": "code",
      "source": [
        "# Problem 2 : We are given a list of n-1 integers and these integers are in the range of 1 to n . There are no duplicates in the list. One of the integers is missing in the list. Give an algorithm to find that element Ex:\n",
        "#  [1,2,4,6,3,7,8] -- o/p: 5 is the missing num.\n",
        "\n",
        "arr2 = [1,2,4,6,3,7,8]\n",
        "n=len(arr2)\n",
        "total = n + 1  # increment 1 because , one number is missing\n",
        "sumOfNumbers = total*(total+1)//2\n",
        "count=0\n",
        "for i in arr2:\n",
        "  count+=i\n",
        "\n",
        "missingNumber = sumOfNumbers - count\n",
        "print(\"Missing Number is :\",missingNumber)"
      ],
      "metadata": {
        "colab": {
          "base_uri": "https://localhost:8080/"
        },
        "id": "b1FwRQlhhEn-",
        "outputId": "1f6285d6-7ef1-481e-c42a-213510cf707d"
      },
      "execution_count": null,
      "outputs": [
        {
          "output_type": "stream",
          "name": "stdout",
          "text": [
            "Missing Number is : 5\n"
          ]
        }
      ]
    },
    {
      "cell_type": "code",
      "source": [
        "# Problem 3 : Given an array of n positive numbers. All numbers occurs even number of times except 1 which occurs odd number of times. Find that number in O(n) time and O(1) space. Ex: [1,2,3,2,3,1,3]. 3 is repeats odd times.\n",
        "res=0\n",
        "arr3 = [1,2,3,2,3,1,3]\n",
        "for i in arr3:\n",
        "  res^=i\n",
        "print(res)"
      ],
      "metadata": {
        "colab": {
          "base_uri": "https://localhost:8080/"
        },
        "id": "6mZyjLUKCdgp",
        "outputId": "a9131f3b-a4b5-41eb-f361-b3f6acd7071e"
      },
      "execution_count": null,
      "outputs": [
        {
          "output_type": "stream",
          "name": "stdout",
          "text": [
            "3\n"
          ]
        }
      ]
    },
    {
      "cell_type": "code",
      "source": [
        "#Problem 4 : Given an array of n elements. Find two elements in the array such that their sum is equal to given element K.\n",
        "\n",
        "arr4=[1,3,4,7,9,8,5,6]\n",
        "k=9\n",
        "flag=0\n",
        "dic={}\n",
        "for i in arr4:\n",
        "  dic[i] =  i\n",
        "\n",
        "for i in arr4:\n",
        "  if abs(k-i) in dic:\n",
        "    print( i, k-i)\n",
        "    dic.pop(i,None)\n",
        "    dic.pop((abs(k-i)),None)\n",
        "    flag=1\n",
        "if not flag:\n",
        "  print(\"No Elements Found\")\n"
      ],
      "metadata": {
        "id": "TPQAWZ0PtCER",
        "colab": {
          "base_uri": "https://localhost:8080/"
        },
        "outputId": "cb390a4c-4b61-41d2-f9cf-4a7f1d1d362c"
      },
      "execution_count": null,
      "outputs": [
        {
          "output_type": "stream",
          "name": "stdout",
          "text": [
            "1 8\n",
            "3 6\n",
            "4 5\n"
          ]
        }
      ]
    },
    {
      "cell_type": "code",
      "source": [
        "# Problem 5 : Given an array of both positive and negative numbers, find two numbers such that their sum is\n",
        "# closest to 0. Ex: [ 1 ,60 ,-10, 70, -80,85]. Ans : -80,85.\n",
        "\n",
        "arr=  [ 1 ,60 ,-10, 70, -82,85,-58]\n",
        "n=len(arr)\n",
        "\n",
        "arr.sort()\n",
        "print(arr)\n",
        "mini = float('inf')\n",
        "left = 0\n",
        "right=n-1\n",
        "while left<right:\n",
        "  suma=  arr[left]+arr[right]\n",
        "  if abs(suma)<abs(mini):\n",
        "    mini = suma\n",
        "    num1 = arr[left]\n",
        "    num2 = arr[right]\n",
        "  if suma<0:\n",
        "    left+=1\n",
        "  else:\n",
        "    right-=1\n",
        "print(num1)\n",
        "print(num2)\n",
        "\n",
        "\n"
      ],
      "metadata": {
        "id": "DeBmBRSh6wk-",
        "colab": {
          "base_uri": "https://localhost:8080/"
        },
        "outputId": "6fca9041-cbce-4cb4-dcc9-9d7d23b61269"
      },
      "execution_count": 7,
      "outputs": [
        {
          "output_type": "stream",
          "name": "stdout",
          "text": [
            "[-82, -58, -10, 1, 60, 70, 85]\n",
            "-58\n",
            "60\n"
          ]
        }
      ]
    },
    {
      "cell_type": "code",
      "source": [
        "# Problem 6 : Given an array of n elements . Find three elements such that their sum is equal to the given number.\n",
        "\n",
        "def find_triplet(arr, target):\n",
        "  arr.sort()\n",
        "  n=len(arr)\n",
        "  for i in range(n-2):\n",
        "    left = i+1\n",
        "    right = n-1\n",
        "    while left<right:\n",
        "      suma = arr[i]+arr[left]+arr[right]\n",
        "      if suma==target:\n",
        "        return arr[i],arr[left],arr[right]\n",
        "      elif suma>target:\n",
        "        right-=1\n",
        "      else:\n",
        "        left+=1\n",
        "\n",
        "arr = [1, 4, 45, 6, 10, 8]\n",
        "target = 22\n",
        "print(find_triplet(arr, target))"
      ],
      "metadata": {
        "id": "u8UCSfK1WUp8",
        "colab": {
          "base_uri": "https://localhost:8080/"
        },
        "outputId": "150418ff-5a1a-4e29-c1c8-1e10db8285f9"
      },
      "execution_count": 8,
      "outputs": [
        {
          "output_type": "stream",
          "name": "stdout",
          "text": [
            "(4, 8, 10)\n"
          ]
        }
      ]
    },
    {
      "cell_type": "code",
      "source": [
        "# Problem 7 : Given an array of n elements . Find three elements i, j, k in the array such that i * i + j * j = k*k.\n",
        "\n",
        "def triplet(arr):\n",
        "  arr.sort()\n",
        "  n=len(arr)\n",
        "  for i in range(n-2):\n",
        "    left = i+1\n",
        "    right = n-1\n",
        "    while left<right:\n",
        "      if arr[i]*arr[i] + arr[left]* arr[left]== arr[right]*arr[right]:\n",
        "        return arr[i],arr[left],arr[right]\n",
        "      elif  arr[i]*arr[i] + arr[left]* arr[left]>arr[right]*arr[right]:\n",
        "        right-=1\n",
        "      else:\n",
        "        left+=1\n",
        "\n",
        "arr = [3,1,4,5]\n",
        "print(triplet(arr))"
      ],
      "metadata": {
        "colab": {
          "base_uri": "https://localhost:8080/"
        },
        "id": "5bnzIBSkstXf",
        "outputId": "0b5265d1-cd67-4d4a-c366-9bc564b03dcc"
      },
      "execution_count": 15,
      "outputs": [
        {
          "output_type": "stream",
          "name": "stdout",
          "text": [
            "(3, 4, 5)\n"
          ]
        }
      ]
    },
    {
      "cell_type": "code",
      "source": [
        "# Problem 8 : An element is a majority if it appears more than n/2 times. Give an algorithm takes an array of n element as argument and identifies a majority (if it exists).\n",
        "\n",
        "arr = [2,3,4,2,4,2,2,2]\n",
        "n = len(arr)\n",
        "\n",
        "\n",
        "\n",
        "def moore(arr,n):\n",
        "  element=arr[0]\n",
        "  cnt=1\n",
        "  for i in range(n):\n",
        "    if element==arr[i]:\n",
        "      cnt+=1\n",
        "    else:\n",
        "      cnt-=1\n",
        "    if cnt==0:\n",
        "      element = arr[i]\n",
        "      cnt+=1\n",
        "  cnt=0\n",
        "  for i in range(n):\n",
        "    if arr[i]==element:\n",
        "      cnt+=1\n",
        "  if cnt>=n//2:\n",
        "    return element\n",
        "  return None\n",
        "\n",
        "print(moore(arr,n))\n"
      ],
      "metadata": {
        "colab": {
          "base_uri": "https://localhost:8080/"
        },
        "id": "Mrpb_7vXvkV-",
        "outputId": "c4fec85c-b21f-4111-d839-f0ebb506f39b"
      },
      "execution_count": 6,
      "outputs": [
        {
          "output_type": "stream",
          "name": "stdout",
          "text": [
            "2\n"
          ]
        }
      ]
    },
    {
      "cell_type": "code",
      "source": [
        "# Problem 9 : Given n × n matrix, and in each row all 1’s are followed by 0’s. Find the row with the maximum number of 0’s.\n",
        "\n",
        "matrix = [\n",
        "    [1, 1, 1, 1, 0],\n",
        "    [1, 1, 1, 0, 0],\n",
        "    [1, 1, 0, 0, 0],\n",
        "    [1, 1, 1, 1, 0],\n",
        "    [1, 0, 0, 0, 0]\n",
        "]\n",
        "\n",
        "rows = len(matrix)\n",
        "cols = len(matrix[0])-1\n",
        "\n",
        "def max_row(matrix,rows,cols):\n",
        "  max_zero_row = 0\n",
        "  moving_row = 0\n",
        "  moving_col= cols\n",
        "  while moving_row<rows and moving_col>=0 :\n",
        "    if matrix[moving_row][moving_col]==0:\n",
        "      max_zero_row=moving_row\n",
        "      moving_col-=1\n",
        "    else:\n",
        "      moving_row+=1\n",
        "  return max_zero_row\n",
        "\n",
        "print(max_row(matrix,rows,cols))\n"
      ],
      "metadata": {
        "colab": {
          "base_uri": "https://localhost:8080/"
        },
        "id": "1ewuyBtazcmQ",
        "outputId": "06411989-bba5-44bb-d2fd-b83f90a58379"
      },
      "execution_count": 24,
      "outputs": [
        {
          "output_type": "stream",
          "name": "stdout",
          "text": [
            "4\n"
          ]
        }
      ]
    },
    {
      "cell_type": "code",
      "source": [
        "# Problem 10 : Sort an array of 0’s, 1’s and 2’s [or R’s, G’s and B’s]: Given an array A[] consisting of 0’s, 1’s and 2’s, give an algorithm for sorting A[].The algorithm should put all 0’s first, then all 1’s and finally all 2’s at the end.\n",
        "#  Example Input = {0,1,1,0,1,2,1,2,0,0,0,1}, Output = {0,0,0,0,0,1,1,1,1,1,2,2}\n",
        "arr = [0,1,1,0,1,2,1,2,0,0,0,1]\n",
        "def sort_012(arr):\n",
        "  left = 0\n",
        "  right = len(arr)-1\n",
        "  mid = 0\n",
        "  while mid<=right:\n",
        "    if arr[mid]==0:\n",
        "      arr[mid],arr[left]=arr[left],arr[mid]\n",
        "      left+=1\n",
        "      mid+=1\n",
        "    elif arr[mid]==1 :\n",
        "      mid+=1\n",
        "    else:\n",
        "      arr[mid],arr[right]=arr[right],arr[mid]\n",
        "      right-=1\n",
        "  return arr\n",
        "\n",
        "\n",
        "print(sort_012(arr))\n",
        "\n",
        "\n",
        "\n",
        "\n"
      ],
      "metadata": {
        "colab": {
          "base_uri": "https://localhost:8080/"
        },
        "id": "zw_shtEGzcuK",
        "outputId": "e232b237-5021-410a-f892-ca60401dbcf0"
      },
      "execution_count": 2,
      "outputs": [
        {
          "output_type": "stream",
          "name": "stdout",
          "text": [
            "[0, 0, 0, 0, 0, 1, 1, 1, 1, 1, 2, 2]\n"
          ]
        }
      ]
    },
    {
      "cell_type": "code",
      "source": [],
      "metadata": {
        "id": "2dSiGZaw7Jf1"
      },
      "execution_count": null,
      "outputs": []
    }
  ]
}